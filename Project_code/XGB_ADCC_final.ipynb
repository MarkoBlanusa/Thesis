version https://git-lfs.github.com/spec/v1
oid sha256:f6b280057052563d1abef939efe2eb3f971a5bd72641660d7d1defb197b9f6e1
size 17096696
